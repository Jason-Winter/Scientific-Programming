{
 "cells": [
  {
   "cell_type": "markdown",
   "id": "aac082d8",
   "metadata": {},
   "source": [
    "# Data preperation"
   ]
  },
  {
   "cell_type": "markdown",
   "id": "60a77f0d",
   "metadata": {},
   "source": [
    "### Weekly consolidation of cases, vaccinations and deaths"
   ]
  },
  {
   "cell_type": "code",
   "execution_count": 2,
   "id": "a6f54b40",
   "metadata": {},
   "outputs": [],
   "source": [
    "import pandas as pd\n",
    "import sqlite3\n",
    "\n",
    "# Connection to the SQLite database\n",
    "conn = sqlite3.connect('../data/covid_switzerland.db')\n",
    "\n",
    "# loading data from the database\n",
    "df_cases = pd.read_sql_query('SELECT * FROM covid_weekly_data', conn)\n",
    "df_deaths = pd.read_sql_query('SELECT * FROM daily_deaths_data', conn)\n",
    "df_vacc = pd.read_sql_query('SELECT * FROM vaccinated_data', conn)\n",
    "conn.close()"
   ]
  },
  {
   "cell_type": "code",
   "execution_count": 3,
   "id": "31387ebe",
   "metadata": {},
   "outputs": [],
   "source": [
    "# Data cleaning and preparation\n",
    "df_deaths['date'] = pd.to_datetime(df_deaths['date'])\n",
    "df_deaths['week_str'] = df_deaths['date'].dt.strftime('%G%V')\n",
    "\n",
    "# Calculating the number of deaths per week\n",
    "df_vacc['date'] = pd.to_datetime(df_vacc['date'], format='%d/%m/%Y')\n",
    "df_vacc['week_str'] = df_vacc['date'].dt.strftime('%G%V')"
   ]
  },
  {
   "cell_type": "code",
   "execution_count": 4,
   "id": "f4ad53d8",
   "metadata": {},
   "outputs": [],
   "source": [
    "# Calculating the number of deaths per week\n",
    "weekly_deaths = df_deaths.groupby('week_str')['daily_deaths'].sum().reset_index()\n",
    "weekly_deaths.rename(columns={'daily_deaths': 'weekly_deaths'}, inplace=True)\n",
    "\n",
    "# Calculating the number of vaccinations per week\n",
    "weekly_vacc = df_vacc.groupby('week_str')['enteries'].sum().reset_index()\n",
    "weekly_vacc.rename(columns={'enteries': 'weekly_vaccinations'}, inplace=True)"
   ]
  },
  {
   "cell_type": "code",
   "execution_count": 5,
   "id": "690a6954",
   "metadata": {},
   "outputs": [
    {
     "data": {
      "text/html": [
       "<div>\n",
       "<style scoped>\n",
       "    .dataframe tbody tr th:only-of-type {\n",
       "        vertical-align: middle;\n",
       "    }\n",
       "\n",
       "    .dataframe tbody tr th {\n",
       "        vertical-align: top;\n",
       "    }\n",
       "\n",
       "    .dataframe thead th {\n",
       "        text-align: right;\n",
       "    }\n",
       "</style>\n",
       "<table border=\"1\" class=\"dataframe\">\n",
       "  <thead>\n",
       "    <tr style=\"text-align: right;\">\n",
       "      <th></th>\n",
       "      <th>week</th>\n",
       "      <th>new_cases</th>\n",
       "      <th>total_cases</th>\n",
       "      <th>population</th>\n",
       "      <th>incidence_weekly</th>\n",
       "      <th>incidence_total</th>\n",
       "      <th>week_str</th>\n",
       "      <th>weekly_vaccinations</th>\n",
       "      <th>weekly_deaths</th>\n",
       "    </tr>\n",
       "  </thead>\n",
       "  <tbody>\n",
       "    <tr>\n",
       "      <th>0</th>\n",
       "      <td>202009</td>\n",
       "      <td>57</td>\n",
       "      <td>57</td>\n",
       "      <td>8738791</td>\n",
       "      <td>0.65</td>\n",
       "      <td>0.65</td>\n",
       "      <td>202009</td>\n",
       "      <td>NaN</td>\n",
       "      <td>0.0</td>\n",
       "    </tr>\n",
       "    <tr>\n",
       "      <th>1</th>\n",
       "      <td>202010</td>\n",
       "      <td>377</td>\n",
       "      <td>434</td>\n",
       "      <td>8738791</td>\n",
       "      <td>4.31</td>\n",
       "      <td>4.97</td>\n",
       "      <td>202010</td>\n",
       "      <td>NaN</td>\n",
       "      <td>3.0</td>\n",
       "    </tr>\n",
       "    <tr>\n",
       "      <th>2</th>\n",
       "      <td>202011</td>\n",
       "      <td>2265</td>\n",
       "      <td>2699</td>\n",
       "      <td>8738791</td>\n",
       "      <td>25.92</td>\n",
       "      <td>30.89</td>\n",
       "      <td>202011</td>\n",
       "      <td>NaN</td>\n",
       "      <td>25.0</td>\n",
       "    </tr>\n",
       "    <tr>\n",
       "      <th>3</th>\n",
       "      <td>202012</td>\n",
       "      <td>6558</td>\n",
       "      <td>9257</td>\n",
       "      <td>8738791</td>\n",
       "      <td>75.04</td>\n",
       "      <td>105.93</td>\n",
       "      <td>202012</td>\n",
       "      <td>NaN</td>\n",
       "      <td>99.0</td>\n",
       "    </tr>\n",
       "    <tr>\n",
       "      <th>4</th>\n",
       "      <td>202013</td>\n",
       "      <td>7345</td>\n",
       "      <td>16602</td>\n",
       "      <td>8738791</td>\n",
       "      <td>84.05</td>\n",
       "      <td>189.98</td>\n",
       "      <td>202013</td>\n",
       "      <td>NaN</td>\n",
       "      <td>253.0</td>\n",
       "    </tr>\n",
       "  </tbody>\n",
       "</table>\n",
       "</div>"
      ],
      "text/plain": [
       "     week  new_cases  total_cases  population  incidence_weekly  \\\n",
       "0  202009         57           57     8738791              0.65   \n",
       "1  202010        377          434     8738791              4.31   \n",
       "2  202011       2265         2699     8738791             25.92   \n",
       "3  202012       6558         9257     8738791             75.04   \n",
       "4  202013       7345        16602     8738791             84.05   \n",
       "\n",
       "   incidence_total week_str  weekly_vaccinations  weekly_deaths  \n",
       "0             0.65   202009                  NaN            0.0  \n",
       "1             4.97   202010                  NaN            3.0  \n",
       "2            30.89   202011                  NaN           25.0  \n",
       "3           105.93   202012                  NaN           99.0  \n",
       "4           189.98   202013                  NaN          253.0  "
      ]
     },
     "execution_count": 5,
     "metadata": {},
     "output_type": "execute_result"
    }
   ],
   "source": [
    "# preparation of covid_weekly_data (week in week_str format)\n",
    "df_cases['week_str'] = df_cases['week'].astype(str)\n",
    "\n",
    "# Merging the tables\n",
    "df_merged = df_cases.merge(weekly_vacc, on='week_str', how='left')\n",
    "df_merged = df_merged.merge(weekly_deaths, on='week_str', how='left')\n",
    "\n",
    "# Displaying the first few rows of the merged tables\n",
    "df_merged.head()"
   ]
  },
  {
   "cell_type": "markdown",
   "id": "ddff4c79",
   "metadata": {},
   "source": [
    "### Droping missing values"
   ]
  },
  {
   "cell_type": "code",
   "execution_count": 6,
   "id": "cbbe57b0",
   "metadata": {},
   "outputs": [
    {
     "name": "stdout",
     "output_type": "stream",
     "text": [
      "week                      0\n",
      "new_cases                 0\n",
      "total_cases               0\n",
      "population                0\n",
      "incidence_weekly          0\n",
      "incidence_total           0\n",
      "week_str                  0\n",
      "weekly_vaccinations    2592\n",
      "weekly_deaths          1692\n",
      "dtype: int64\n",
      "   weekly_vaccinations  weekly_deaths\n",
      "0                    0              0\n",
      "1                    0              3\n",
      "2                    0             25\n",
      "3                    0             99\n",
      "4                    0            253\n"
     ]
    }
   ],
   "source": [
    "# Checking for missing values\n",
    "print(df_merged.isnull().sum())\n",
    "\n",
    "# Replacing NaN values with 0\n",
    "df_merged.fillna(0, inplace=True)\n",
    "\n",
    "# Convert weekly_vaccinations and weekly_deaths to integers\n",
    "df_merged['weekly_vaccinations'] = df_merged['weekly_vaccinations'].astype(int)\n",
    "df_merged['weekly_deaths'] = df_merged['weekly_deaths'].astype(int)\n",
    "\n",
    "# Display the first few rows to confirm the changes\n",
    "print(df_merged[['weekly_vaccinations', 'weekly_deaths']].head())"
   ]
  },
  {
   "cell_type": "markdown",
   "id": "11a26202",
   "metadata": {},
   "source": [
    "### Changing week in a real date"
   ]
  },
  {
   "cell_type": "code",
   "execution_count": 7,
   "id": "23a1c24b",
   "metadata": {},
   "outputs": [
    {
     "name": "stdout",
     "output_type": "stream",
     "text": [
      "        date\n",
      "0 2020-02-24\n",
      "1 2020-03-02\n",
      "2 2020-03-09\n",
      "3 2020-03-16\n",
      "4 2020-03-23\n"
     ]
    }
   ],
   "source": [
    "# changing the week_str to a date format\n",
    "from pandas import to_datetime\n",
    "df_merged['date'] = df_merged['week_str'].apply(lambda x: to_datetime(x + '1', format='%G%V%u'))\n",
    "\n",
    "# print the first few rows of the column 'date'\n",
    "print(df_merged[['date']].head())"
   ]
  },
  {
   "cell_type": "markdown",
   "id": "656ff81d",
   "metadata": {},
   "source": [
    "### Calculations per 100k residents"
   ]
  },
  {
   "cell_type": "code",
   "execution_count": 8,
   "id": "26a3b0cd",
   "metadata": {},
   "outputs": [
    {
     "name": "stdout",
     "output_type": "stream",
     "text": [
      "   weekly_cases_per_100k  weekly_deaths_per_100k  weekly_vacc_per_100k  \\\n",
      "0               0.652264                0.000000                   0.0   \n",
      "1               4.314098                0.034330                   0.0   \n",
      "2              25.918917                0.286081                   0.0   \n",
      "3              75.044706                1.132880                   0.0   \n",
      "4              84.050528                2.895137                   0.0   \n",
      "\n",
      "   death_rate  \n",
      "0    0.000000  \n",
      "1    0.007958  \n",
      "2    0.011038  \n",
      "3    0.015096  \n",
      "4    0.034445  \n"
     ]
    }
   ],
   "source": [
    "# Calculations for new cases, deaths, and vaccinations per 100k population\n",
    "df_merged['weekly_cases_per_100k'] = df_merged['new_cases'] / df_merged['population'] * 100000\n",
    "df_merged['weekly_deaths_per_100k'] = df_merged['weekly_deaths'] / df_merged['population'] * 100000\n",
    "df_merged['weekly_vacc_per_100k'] = df_merged['weekly_vaccinations'] / df_merged['population'] * 100000\n",
    "\n",
    "# Death rate calculation\n",
    "df_merged['death_rate'] = df_merged['weekly_deaths'] / df_merged['new_cases']\n",
    "\n",
    "# Display the first few rows to confirm the changes\n",
    "print(df_merged[['weekly_cases_per_100k', 'weekly_deaths_per_100k', 'weekly_vacc_per_100k', 'death_rate']].head())"
   ]
  },
  {
   "cell_type": "markdown",
   "id": "a2fc1eb6",
   "metadata": {},
   "source": [
    "Weekly Summary of cases, vaccinations and deaths"
   ]
  },
  {
   "cell_type": "code",
   "execution_count": 9,
   "id": "e3375a62",
   "metadata": {},
   "outputs": [
    {
     "name": "stdout",
     "output_type": "stream",
     "text": [
      "📊 Weekly overview: new cases, vaccinations, and deaths\n",
      "\n",
      "Week 202009: 57 new cases | 0 vaccinations | 0 deaths\n",
      "Week 202010: 377 new cases | 0 vaccinations | 3 deaths\n",
      "Week 202011: 2265 new cases | 0 vaccinations | 25 deaths\n",
      "Week 202012: 6558 new cases | 0 vaccinations | 99 deaths\n",
      "Week 202013: 7345 new cases | 0 vaccinations | 253 deaths\n",
      "Week 202014: 6024 new cases | 0 vaccinations | 385 deaths\n",
      "Week 202015: 3600 new cases | 0 vaccinations | 343 deaths\n",
      "Week 202016: 1837 new cases | 0 vaccinations | 242 deaths\n",
      "Week 202017: 1167 new cases | 0 vaccinations | 194 deaths\n",
      "Week 202018: 700 new cases | 0 vaccinations | 90 deaths\n"
     ]
    }
   ],
   "source": [
    "# 🔁 Weekly summary for first 10 weeks (loop demonstration)\n",
    "\n",
    "print(\"📊 Weekly overview: new cases, vaccinations, and deaths\\n\")\n",
    "\n",
    "for i, row in df_merged.iterrows():\n",
    "    week = row[\"week_str\"]\n",
    "    new_cases = row[\"new_cases\"]\n",
    "    vacc = row[\"weekly_vaccinations\"]\n",
    "    deaths = row[\"weekly_deaths\"]\n",
    "    \n",
    "    print(f\"Week {week}: {new_cases} new cases | {vacc} vaccinations | {deaths} deaths\")\n",
    "    \n",
    "    if i == 9:  # Limit output to 10 weeks for readability\n",
    "        break\n"
   ]
  },
  {
   "cell_type": "markdown",
   "id": "faa6caaa",
   "metadata": {},
   "source": [
    "### Mean of 3 Weeks for the visualization"
   ]
  },
  {
   "cell_type": "code",
   "execution_count": 10,
   "id": "cc1253b2",
   "metadata": {},
   "outputs": [
    {
     "data": {
      "text/html": [
       "<div>\n",
       "<style scoped>\n",
       "    .dataframe tbody tr th:only-of-type {\n",
       "        vertical-align: middle;\n",
       "    }\n",
       "\n",
       "    .dataframe tbody tr th {\n",
       "        vertical-align: top;\n",
       "    }\n",
       "\n",
       "    .dataframe thead th {\n",
       "        text-align: right;\n",
       "    }\n",
       "</style>\n",
       "<table border=\"1\" class=\"dataframe\">\n",
       "  <thead>\n",
       "    <tr style=\"text-align: right;\">\n",
       "      <th></th>\n",
       "      <th>week_str</th>\n",
       "      <th>date</th>\n",
       "      <th>new_cases</th>\n",
       "      <th>weekly_deaths</th>\n",
       "      <th>weekly_vaccinations</th>\n",
       "      <th>weekly_cases_per_100k</th>\n",
       "      <th>weekly_deaths_per_100k</th>\n",
       "      <th>weekly_vacc_per_100k</th>\n",
       "      <th>death_rate</th>\n",
       "    </tr>\n",
       "  </thead>\n",
       "  <tbody>\n",
       "    <tr>\n",
       "      <th>0</th>\n",
       "      <td>202009</td>\n",
       "      <td>2020-02-24</td>\n",
       "      <td>57</td>\n",
       "      <td>0</td>\n",
       "      <td>0</td>\n",
       "      <td>0.652264</td>\n",
       "      <td>0.000000</td>\n",
       "      <td>0.0</td>\n",
       "      <td>0.000000</td>\n",
       "    </tr>\n",
       "    <tr>\n",
       "      <th>1</th>\n",
       "      <td>202010</td>\n",
       "      <td>2020-03-02</td>\n",
       "      <td>377</td>\n",
       "      <td>3</td>\n",
       "      <td>0</td>\n",
       "      <td>4.314098</td>\n",
       "      <td>0.034330</td>\n",
       "      <td>0.0</td>\n",
       "      <td>0.007958</td>\n",
       "    </tr>\n",
       "    <tr>\n",
       "      <th>2</th>\n",
       "      <td>202011</td>\n",
       "      <td>2020-03-09</td>\n",
       "      <td>2265</td>\n",
       "      <td>25</td>\n",
       "      <td>0</td>\n",
       "      <td>25.918917</td>\n",
       "      <td>0.286081</td>\n",
       "      <td>0.0</td>\n",
       "      <td>0.011038</td>\n",
       "    </tr>\n",
       "    <tr>\n",
       "      <th>3</th>\n",
       "      <td>202012</td>\n",
       "      <td>2020-03-16</td>\n",
       "      <td>6558</td>\n",
       "      <td>99</td>\n",
       "      <td>0</td>\n",
       "      <td>75.044706</td>\n",
       "      <td>1.132880</td>\n",
       "      <td>0.0</td>\n",
       "      <td>0.015096</td>\n",
       "    </tr>\n",
       "    <tr>\n",
       "      <th>4</th>\n",
       "      <td>202013</td>\n",
       "      <td>2020-03-23</td>\n",
       "      <td>7345</td>\n",
       "      <td>253</td>\n",
       "      <td>0</td>\n",
       "      <td>84.050528</td>\n",
       "      <td>2.895137</td>\n",
       "      <td>0.0</td>\n",
       "      <td>0.034445</td>\n",
       "    </tr>\n",
       "  </tbody>\n",
       "</table>\n",
       "</div>"
      ],
      "text/plain": [
       "  week_str       date  new_cases  weekly_deaths  weekly_vaccinations  \\\n",
       "0   202009 2020-02-24         57              0                    0   \n",
       "1   202010 2020-03-02        377              3                    0   \n",
       "2   202011 2020-03-09       2265             25                    0   \n",
       "3   202012 2020-03-16       6558             99                    0   \n",
       "4   202013 2020-03-23       7345            253                    0   \n",
       "\n",
       "   weekly_cases_per_100k  weekly_deaths_per_100k  weekly_vacc_per_100k  \\\n",
       "0               0.652264                0.000000                   0.0   \n",
       "1               4.314098                0.034330                   0.0   \n",
       "2              25.918917                0.286081                   0.0   \n",
       "3              75.044706                1.132880                   0.0   \n",
       "4              84.050528                2.895137                   0.0   \n",
       "\n",
       "   death_rate  \n",
       "0    0.000000  \n",
       "1    0.007958  \n",
       "2    0.011038  \n",
       "3    0.015096  \n",
       "4    0.034445  "
      ]
     },
     "execution_count": 10,
     "metadata": {},
     "output_type": "execute_result"
    }
   ],
   "source": [
    "# Mean per 3 weeks for new cases, deaths, and vaccinations\n",
    "df_merged['cases_smooth'] = df_merged['new_cases'].rolling(3).mean()\n",
    "df_merged['vacc_smooth'] = df_merged['weekly_vaccinations'].rolling(3).mean()\n",
    "df_merged['deaths_smooth'] = df_merged['weekly_deaths'].rolling(3).mean()\n",
    "\n",
    "# Display the first few rows to confirm the changes\n",
    "df_merged[['week_str', 'date', 'new_cases', 'weekly_deaths', 'weekly_vaccinations', \n",
    "    'weekly_cases_per_100k', 'weekly_deaths_per_100k', 'weekly_vacc_per_100k', 'death_rate']].head()"
   ]
  },
  {
   "cell_type": "markdown",
   "id": "2766229e",
   "metadata": {},
   "source": [
    "### Saving data frame in CSV file"
   ]
  },
  {
   "cell_type": "code",
   "execution_count": 11,
   "id": "b8b2c560",
   "metadata": {},
   "outputs": [],
   "source": [
    "# Save the DataFrame to a CSV file\n",
    "df_merged.to_csv('../data/weekly_combined_prepared.csv', index=False)"
   ]
  }
 ],
 "metadata": {
  "kernelspec": {
   "display_name": "base",
   "language": "python",
   "name": "python3"
  },
  "language": "python",
  "language_info": {
   "codemirror_mode": {
    "name": "ipython",
    "version": 3
   },
   "file_extension": ".py",
   "mimetype": "text/x-python",
   "name": "python",
   "nbconvert_exporter": "python",
   "pygments_lexer": "ipython3",
   "version": "3.12.4"
  }
 },
 "nbformat": 4,
 "nbformat_minor": 5
}
