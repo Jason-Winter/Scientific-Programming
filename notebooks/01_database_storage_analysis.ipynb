{
 "cells": [
  {
   "cell_type": "markdown",
   "id": "0c89c6e7",
   "metadata": {},
   "source": [
    "# Database Creation"
   ]
  },
  {
   "cell_type": "markdown",
   "id": "428b3e50",
   "metadata": {},
   "source": [
    "### Importing the COVID Cases to database"
   ]
  },
  {
   "cell_type": "code",
   "execution_count": 7,
   "id": "b9b7ed4d",
   "metadata": {},
   "outputs": [
    {
     "name": "stdout",
     "output_type": "stream",
     "text": [
      "     week  new_cases  total_cases  population  incidence_weekly  \\\n",
      "0  202009         57           57     8738791              0.65   \n",
      "1  202010        377          434     8738791              4.31   \n",
      "2  202011       2265         2699     8738791             25.92   \n",
      "3  202012       6558         9257     8738791             75.04   \n",
      "4  202013       7345        16602     8738791             84.05   \n",
      "\n",
      "   incidence_total  \n",
      "0             0.65  \n",
      "1             4.97  \n",
      "2            30.89  \n",
      "3           105.93  \n",
      "4           189.98  \n"
     ]
    }
   ],
   "source": [
    "# import liberaries\n",
    "import pandas as pd\n",
    "import sqlite3\n",
    "\n",
    "# read in the data\n",
    "df = pd.read_csv(\"../data/COVID19Cases_geoRegion_w.csv\")\n",
    "\n",
    "# Select relevant columns to keep the database organized\n",
    "df_clean = df[[\n",
    "    \"datum\", \"entries\", \"sumTotal\", \"pop\", \"inz_entries\", \"inzsumTotal\"\n",
    "]].copy()\n",
    "\n",
    "# Rename columns for better readability\n",
    "df_clean.columns = [\n",
    "    \"week\", \"new_cases\", \"total_cases\", \"population\",\n",
    "    \"incidence_weekly\", \"incidence_total\"\n",
    "]\n",
    "\n",
    "\n",
    "# Create database and write data to the database table\n",
    "conn = sqlite3.connect(\"../data/covid_switzerland.db\")\n",
    "df_clean.to_sql(\"covid_weekly_data\", conn, if_exists=\"replace\", index=False)\n",
    "conn.close()\n",
    "\n",
    "# Print the first 5 rows of the database to check\n",
    "conn = sqlite3.connect(\"../data/covid_switzerland.db\")\n",
    "query = \"SELECT * FROM covid_weekly_data LIMIT 5\"\n",
    "df_check = pd.read_sql_query(query, conn)\n",
    "print(df_check)\n",
    "conn.close()"
   ]
  },
  {
   "cell_type": "markdown",
   "id": "69f9f973",
   "metadata": {},
   "source": [
    "### Importing the Vaccines to database"
   ]
  },
  {
   "cell_type": "code",
   "execution_count": 8,
   "id": "7e7dc67f",
   "metadata": {},
   "outputs": [
    {
     "name": "stdout",
     "output_type": "stream",
     "text": [
      "         date canton     vaccine_name  enteries variant_type  population  \\\n",
      "0  22/12/2020     AG  johnson_johnson         0      vaccine    703086.0   \n",
      "1  23/12/2020     AG  johnson_johnson         0      vaccine    703086.0   \n",
      "2  24/12/2020     AG  johnson_johnson         0      vaccine    703086.0   \n",
      "3  25/12/2020     AG  johnson_johnson         0      vaccine    703086.0   \n",
      "4  26/12/2020     AG  johnson_johnson         0      vaccine    703086.0   \n",
      "\n",
      "   total_vaccinated  \n",
      "0                 0  \n",
      "1                 0  \n",
      "2                 0  \n",
      "3                 0  \n",
      "4                 0  \n",
      "                name\n",
      "0  daily_deaths_data\n",
      "1  covid_weekly_data\n",
      "2    vaccinated_data\n"
     ]
    }
   ],
   "source": [
    "# Load the vaccinated persons data\n",
    "df_vaccinated = pd.read_csv(\"../data/COVID19VaccPersons_vaccine.csv\")\n",
    "\n",
    "# Select relevant columns (adjust based on the actual column names in the CSV)\n",
    "df_vaccinated_clean = df_vaccinated[[\n",
    "    \"date\", \"geoRegion\", \"vaccine\", \"entries\",\"type_variant\", \"pop\", \"sumTotal\" \n",
    "]].copy()\n",
    "\n",
    "# Rename columns for better readability\n",
    "df_vaccinated_clean.columns = [\n",
    "    \"date\", \"canton\", \"vaccine_name\", \"enteries\", \"variant_type\", \"population\", \"total_vaccinated\"\n",
    "]\n",
    "\n",
    "\n",
    "# Display the filtered DataFrame\n",
    "print(df_vaccinated_clean.head())\n",
    "\n",
    "# Reconnect to the database\n",
    "conn = sqlite3.connect(\"../data/covid_switzerland.db\")\n",
    "\n",
    "# Write the vaccinated persons data to a new table\n",
    "df_vaccinated_clean.to_sql(\"vaccinated_data\", conn, if_exists=\"replace\", index=False)\n",
    "\n",
    "# Close the connection\n",
    "conn.close()\n",
    "\n",
    "# Check the tables in the database\n",
    "conn = sqlite3.connect(\"../data/covid_switzerland.db\")\n",
    "query = \"SELECT name FROM sqlite_master WHERE type='table';\"\n",
    "tables = pd.read_sql_query(query, conn)\n",
    "print(tables)\n",
    "conn.close()"
   ]
  },
  {
   "cell_type": "markdown",
   "id": "fdc05254",
   "metadata": {},
   "source": [
    "### Importing the Deaths to database"
   ]
  },
  {
   "cell_type": "code",
   "execution_count": 9,
   "id": "a9fae0af",
   "metadata": {},
   "outputs": [
    {
     "name": "stdout",
     "output_type": "stream",
     "text": [
      "         date  total_deaths  daily_deaths\n",
      "0  2020-02-24             0             0\n",
      "1  2020-02-25             0             0\n",
      "2  2020-02-26             0             0\n",
      "3  2020-02-27             0             0\n",
      "4  2020-02-28             0             0\n",
      "                name\n",
      "0  covid_weekly_data\n",
      "1    vaccinated_data\n",
      "2  daily_deaths_data\n"
     ]
    }
   ],
   "source": [
    "# Load the daily deaths data\n",
    "df_daily_deaths = pd.read_csv(\"../data/bag_daily_deaths.csv\")\n",
    "\n",
    "# Display the cleaned DataFrame\n",
    "print(df_daily_deaths.head())\n",
    "\n",
    "# Reconnect to the database\n",
    "conn = sqlite3.connect(\"../data/covid_switzerland.db\")\n",
    "\n",
    "# Write the daily deaths data to a new table\n",
    "df_daily_deaths.to_sql(\"daily_deaths_data\", conn, if_exists=\"replace\", index=False)\n",
    "\n",
    "# Close the connection\n",
    "conn.close()\n",
    "\n",
    "# Check the tables in the database\n",
    "conn = sqlite3.connect(\"../data/covid_switzerland.db\")\n",
    "query = \"SELECT name FROM sqlite_master WHERE type='table';\"\n",
    "tables = pd.read_sql_query(query, conn)\n",
    "print(tables)\n",
    "conn.close()"
   ]
  },
  {
   "cell_type": "markdown",
   "id": "6dc6cd9d",
   "metadata": {},
   "source": [
    "### Total Weeks"
   ]
  },
  {
   "cell_type": "code",
   "execution_count": 10,
   "id": "3c580fc6",
   "metadata": {},
   "outputs": [
    {
     "name": "stdout",
     "output_type": "stream",
     "text": [
      "   total_weeks\n",
      "0         7056\n"
     ]
    }
   ],
   "source": [
    "# Reconnect to the database\n",
    "conn = sqlite3.connect(\"../data/covid_switzerland.db\")\n",
    "\n",
    "# Execute the query to count total weeks\n",
    "query = \"SELECT COUNT(*) AS total_weeks FROM covid_weekly_data;\"\n",
    "result = pd.read_sql_query(query, conn)\n",
    "\n",
    "# Print the result\n",
    "print(result)\n",
    "\n",
    "# Close the connection\n",
    "conn.close()"
   ]
  },
  {
   "cell_type": "markdown",
   "id": "e68515c9",
   "metadata": {},
   "source": [
    "### Week with the most new cases"
   ]
  },
  {
   "cell_type": "code",
   "execution_count": 11,
   "id": "2a0aa0e4",
   "metadata": {},
   "outputs": [
    {
     "name": "stdout",
     "output_type": "stream",
     "text": [
      "     week  new_cases\n",
      "0  202204     249378\n"
     ]
    }
   ],
   "source": [
    "# Reconnect to the database\n",
    "conn = sqlite3.connect(\"../data/covid_switzerland.db\")\n",
    "\n",
    "# Execute the query to get the week with the highest number of new cases\n",
    "query = \"\"\"\n",
    "SELECT week, new_cases\n",
    "FROM covid_weekly_data\n",
    "ORDER BY new_cases DESC\n",
    "LIMIT 1;\n",
    "\"\"\"\n",
    "result = pd.read_sql_query(query, conn)\n",
    "\n",
    "# Print the result\n",
    "print(result)\n",
    "\n",
    "# Close the connection\n",
    "conn.close()"
   ]
  },
  {
   "cell_type": "markdown",
   "id": "b6df4837",
   "metadata": {},
   "source": [
    "### Week where the number of cases is over 500"
   ]
  },
  {
   "cell_type": "code",
   "execution_count": 12,
   "id": "f513beaf",
   "metadata": {},
   "outputs": [
    {
     "name": "stdout",
     "output_type": "stream",
     "text": [
      "       week  new_cases  incidence_weekly\n",
      "0    202042        377            510.85\n",
      "1    202042       1941            549.53\n",
      "2    202043         90            550.12\n",
      "3    202043        207            530.02\n",
      "4    202043       2665            808.04\n",
      "..      ...        ...               ...\n",
      "839  202241       2939            834.51\n",
      "840  202241       2635            746.02\n",
      "841  202241       2939            834.51\n",
      "842  202242       2329            661.31\n",
      "843  202242       2329            661.31\n",
      "\n",
      "[844 rows x 3 columns]\n"
     ]
    }
   ],
   "source": [
    "# Reconnect to the database\n",
    "conn = sqlite3.connect(\"../data/covid_switzerland.db\")\n",
    "\n",
    "# Execute the query to filter rows with incidence_weekly > 500\n",
    "query = \"\"\"\n",
    "SELECT week, new_cases, incidence_weekly\n",
    "FROM covid_weekly_data\n",
    "WHERE incidence_weekly > 500\n",
    "ORDER BY week;\n",
    "\"\"\"\n",
    "result = pd.read_sql_query(query, conn)\n",
    "\n",
    "# Print the result\n",
    "print(result)\n",
    "\n",
    "# Close the connection\n",
    "conn.close()"
   ]
  }
 ],
 "metadata": {
  "kernelspec": {
   "display_name": "base",
   "language": "python",
   "name": "python3"
  },
  "language_info": {
   "codemirror_mode": {
    "name": "ipython",
    "version": 3
   },
   "file_extension": ".py",
   "mimetype": "text/x-python",
   "name": "python",
   "nbconvert_exporter": "python",
   "pygments_lexer": "ipython3",
   "version": "3.12.4"
  }
 },
 "nbformat": 4,
 "nbformat_minor": 5
}
